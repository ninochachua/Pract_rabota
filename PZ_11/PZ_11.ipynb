{
  "nbformat": 4,
  "nbformat_minor": 0,
  "metadata": {
    "colab": {
      "name": "PZ_11.ipynb",
      "provenance": [],
      "collapsed_sections": []
    },
    "kernelspec": {
      "name": "python3",
      "display_name": "Python 3"
    },
    "language_info": {
      "name": "python"
    }
  },
  "cells": [
    {
      "cell_type": "markdown",
      "source": [
        "Даны целые числа a, b, c, являющиеся сторонами некоторого треугольника.\n",
        "Проверить истинность высказывания: «Треугольник со сторонами a, b, c является равносторонним»\n"
      ],
      "metadata": {
        "id": "6tso-ObEb-9U"
      }
    },
    {
      "cell_type": "code",
      "source": [
        "while True:\n",
        "    try:                                                # обработка исключений\n",
        "        a = int(input(\"Введите значение первой стороны треугольника:\"))\n",
        "        b = int(input(\"Введите значение второй стороны треугольника:\"))\n",
        "        c = int(input(\"Введите значение третьей стороны треугольника\"))\n",
        "        if a < 0 or b < 0 or c < 0:\n",
        "            print(\"Стороны треугольника не могут принимать отрицательные значения\")\n",
        "        else:\n",
        "            break\n",
        "    except ValueError:\n",
        "        print(\"Введите корректные значения!\")\n",
        "\n",
        "if (a == b) and (b == c):\n",
        "    print(True)\n",
        "else:\n",
        "    print(False)"
      ],
      "metadata": {
        "colab": {
          "base_uri": "https://localhost:8080/"
        },
        "id": "MVvDa8xdcgMc",
        "outputId": "b63e2a64-89ba-4592-a351-9756a0b212a9"
      },
      "execution_count": null,
      "outputs": [
        {
          "output_type": "stream",
          "name": "stdout",
          "text": [
            "Введите значение первой стороны треугольника:4\n",
            "Введите значение второй стороны треугольника:4\n",
            "Введите значение третьей стороны треугольника4\n",
            "True\n"
          ]
        }
      ]
    },
    {
      "cell_type": "markdown",
      "source": [
        "Дано целое число N (>0). Найти значение выражения 1.1 - 1.2 + 1.3 - ...\n",
        "(N слагаемых, знаки чередуются). Условный оператор не использовать.\n"
      ],
      "metadata": {
        "id": "vqIoxLsYcon9"
      }
    },
    {
      "cell_type": "code",
      "source": [
        "try:                                                 # обработка исключений\n",
        "    N = int(input(\"Введите целое число:\"))\n",
        "    print(\"Успешно\")\n",
        "except ValueError:\n",
        "    print(\"Ошибка\")\n",
        "print(\"N = \", N)\n",
        "S = 0.0\n",
        "i = 1\n",
        "while N >= 1:\n",
        "    x = (1 + i * 0.1) * (-1) ** (i + 1)\n",
        "    S += x\n",
        "    i += 1\n",
        "    N -= 1\n",
        "print(\"Сумма = \", S)\n"
      ],
      "metadata": {
        "colab": {
          "base_uri": "https://localhost:8080/"
        },
        "id": "rJ7tUczjdoXc",
        "outputId": "fb135955-b24b-410f-c1ec-574faa89dc9f"
      },
      "execution_count": null,
      "outputs": [
        {
          "output_type": "stream",
          "name": "stdout",
          "text": [
            "Введите целое число:4\n",
            "Успешно\n",
            "N =  4\n",
            "Сумма =  -0.19999999999999973\n"
          ]
        }
      ]
    },
    {
      "cell_type": "markdown",
      "source": [
        "Составить функцию, которая выполняет суммирование  числового ряда."
      ],
      "metadata": {
        "id": "pqCXrWPXc4WE"
      }
    },
    {
      "cell_type": "code",
      "source": [
        "# Составить функцию, которая выполняет суммирование  числового ряда.\n",
        "nums = []\n",
        "i = 0\n",
        "n = int(input(\"Введите количество суммируемых элементов:\"))\n",
        "while i < n:\n",
        "    x = int(input(\"Введите число:\"))\n",
        "    nums.append(x)                  # объединение\n",
        "    i += 1\n",
        "\n",
        "\n",
        "def sum_nums(list):\n",
        "    if len(list) == 0:\n",
        "        return 0\n",
        "    i = 0\n",
        "    s = 0\n",
        "    while i < len(list):\n",
        "        s += list[i]\n",
        "        i += 1\n",
        "    return s\n",
        "\n",
        "\n",
        "print(sum_nums(nums))"
      ],
      "metadata": {
        "colab": {
          "base_uri": "https://localhost:8080/"
        },
        "id": "jCAoVcNWdt-j",
        "outputId": "7e7d7c5b-4d00-482b-e326-53afd74c69d4"
      },
      "execution_count": null,
      "outputs": [
        {
          "output_type": "stream",
          "name": "stdout",
          "text": [
            "Введите количество суммируемых элементов:2\n",
            "Введите число:1\n",
            "Введите число:2\n",
            "3\n"
          ]
        }
      ]
    }
  ]
}